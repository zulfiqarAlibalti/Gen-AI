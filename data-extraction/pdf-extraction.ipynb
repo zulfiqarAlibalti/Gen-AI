{
 "cells": [
  {
   "cell_type": "code",
   "execution_count": 2,
   "metadata": {},
   "outputs": [],
   "source": [
    "import PyPDF2 as pdf"
   ]
  },
  {
   "cell_type": "code",
   "execution_count": 3,
   "metadata": {},
   "outputs": [],
   "source": [
    "file = open(\"C:Users/ali/Desktop/research-article.pdf\", \"rb\")"
   ]
  },
  {
   "cell_type": "code",
   "execution_count": 5,
   "metadata": {},
   "outputs": [],
   "source": [
    "pd = pdf.PdfReader(file)"
   ]
  },
  {
   "cell_type": "code",
   "execution_count": 10,
   "metadata": {},
   "outputs": [
    {
     "name": "stdout",
     "output_type": "stream",
     "text": [
      "NOUMAN et al. : RECENT ADV ANCES IN CONTACTLESS SENSING TECHNOLOGIES FOR MENTAL HEALTH MONITORING 275\n",
      "interact with one another [8], [9]. Emotions are the process\n",
      "of causally linked behavioral and mental elements, where theformer includes an appraisal, action tendency, and subjective\n",
      "experience while the latter includes vocal, facial expressions,\n",
      "and physiological reactions [10]. Emotion recognition hasbeen applied in many areas, such as mental health monitor-\n",
      "ing, safe driving, social security [11], and so on. Similarly,\n",
      "stress is a nonspeciﬁc response of the body to the externaldemands, also known as stressors [26]. Stress is strongly cor-\n",
      "related with emotional states, and a high level of stress affects\n",
      "one’s performance at work, emotions, mental, and physicalhealth [27]. The individuals who are diagnosed with severe\n",
      "stress also reported poor general health. Moreover, they expe-\n",
      "rience high rates of chronic conditions that put them at risk\n",
      "for early death, including high cholesterol level, high blood\n",
      "pressure, obesity asthma, and diabetes [2]. Likewise, previousresearch indicates that there are links between depression and\n",
      "anxiety as well as between cardiovascular and cerebrovascular\n",
      "diseases [28].\n",
      "B. Noninvasive Physiological Biomarkers and Physical Signs\n",
      "to Detect Mental Health\n",
      "To estimate a person’s general health, vital signs monitoring\n",
      "is crucial and plays an important role especially in elderly\n",
      "and child healthcare [29]. In general, vital signs monitoring\n",
      "could be classiﬁed into two major categories: 1) physical signsmonitoring and 2) physiological signs monitoring [11]. The\n",
      "ﬁrst category uses human physical signs (which offers easy\n",
      "data collection) that can indicate mental health status through\n",
      "activity [2], speech [14], gestures [20], facial expressions [18],\n",
      "sleep [17], etc. For example, physical activity can reﬂect themental condition as reduced physical activity is an indicator of\n",
      "depression and schizophrenia, and increased physical activity\n",
      "is a sign of bipolar disorder [12], [13].\n",
      "Another important physiological biomarker is the gestures,\n",
      "which varies signiﬁcantly in patients having severe mental\n",
      "illnesses. To demonstrate this claim, Pavlidou et al. [20]\n",
      "examined three types of gestures of depressed and control\n",
      "subjects by using the test of upper limb apraxia (TULIA),\n",
      "and found impaired gesture performance in depressed patients.In addition, gesture performance of depressed patients was\n",
      "highly correlated with working memory abilities. Similarly,\n",
      "various studies stated mental health detection from speech sig-nals. For example, by analyzing speech features, researchers\n",
      "found that depressed individuals tend to show lower fun-\n",
      "damental frequency range [14], and have a slower rate ofspeech [15] as compared with healthy subjects. Moreover,\n",
      "Anet al. [30] reported mental state detection from speech\n",
      "signals. Furthermore, Muaremi et al. [31] used phone con-\n",
      "versation data to identify manic and depressive states in\n",
      "bipolar disorder. Sleep is closely connected to emotionaland mental health and has demonstrated links to a range of\n",
      "mental illnesses [2]. In a sleep cycle, brain activity ﬂuctu-\n",
      "ates during sleep stages, which is linked with the function-ing of brain, i.e., memory consolidation and learning [32].\n",
      "V orvolakos et al. [16] revealed that subjects with depressionreported to have shorter sleep duration and reduced sleep efﬁ-\n",
      "ciency. Moreover, Pye et al. [17] found that individuals having\n",
      "depression experience an increase in activity levels during\n",
      "sleep and lower sleep regularity index.\n",
      "Similarly, facial expressions can be useful in diagnosing\n",
      "mental illnesses. For example, Laksana et al. [33] suggested\n",
      "suicidal ideation by analyzing facial expressions. In addition,\n",
      "it is also observed that patients with mental illnesses tend toshow reduced facial expressivity (ﬂat affect) [18]. Different\n",
      "features, such as tracking facial action units (AUs), facial\n",
      "expressivity, head movement, eyebrow contraction, etc., canhelp to indicate mental health. However, the accuracy and\n",
      "reliability cannot be guaranteed, as it is easy for individuals\n",
      "to control physical signs such as speech or facial expres-\n",
      "sion to hide their real emotions during social interactions.\n",
      "For instance, a person may produce smile even if they havea negative emotional state.\n",
      "The second category employs physiological signs (also\n",
      "referred to as internal signs), which include the electrocar-diogram (ECG), electroencephalogram (EEG), electromyo-\n",
      "gram (EMG), respiration (RSP), electrodermal activity (EDA),\n",
      "etc. Physiological signs can provide useful insights into men-tal health states. Heart rate variability (HRV) can help predict\n",
      "cardiac events [34]. Subjects having a mental illness are at\n",
      "a higher risk of cardiovascular morbidity as compared withthe rest of the population. Moreover, patients diagnosed with\n",
      "schizophrenia, bipolar disorder, depression, anxiety, and post-\n",
      "traumatic stress disorder (PTSD) reported reduced HRV [2].Similarly, the breathing rate can be used to indicate the\n",
      "potential respiratory illnesses, and leverage the sleeping pat-\n",
      "terns [50], which can be further exploited to assess one’s\n",
      "mental issue. Table I relates mental illnesses to speciﬁc signs\n",
      "monitoring. Thus, granular monitoring of vital signs can pro-vide unique insights into illness trajectory. This indication can\n",
      "further help identify individualized markers of illness onset,\n",
      "which in turn could be used to design personalized treatmentsteps. This could signiﬁcantly improve clinical feedback and\n",
      "therapeutic outcomes for a patient.\n",
      "C. Motivation\n",
      "Till now, several sensing methods have been developed\n",
      "by researchers to tackle an exponential increase in mental\n",
      "health issues. Traditional invasive (contact-based) methodsfor detecting mental health issues were commonly used in\n",
      "hospitals. These methods include medical grade EEG head-\n",
      "sets, ECG devices, and magnetic resonance imaging (MRI)scanners, among others [51]. EEG headsets in combination\n",
      "with other wearable sensing devices (e.g., those measur-\n",
      "ing heart rate) can be used to monitor mental states in\n",
      "patients with psychiatric disorders, such as depression or anx-\n",
      "iety [52]. For example, Grotegerd et al. [53] used MRI scans\n",
      "to discriminate unipolar and bipolar depression by apply-\n",
      "ing pattern classiﬁcation. Similarly, Bashivan et al. [51] used\n",
      "Muse EEG headset for data collection, and by applying ML\n",
      "algorithms, they were able to classify different cognitive\n",
      "states.\n",
      "Authorized licensed use limited to: The University of Texas Rio Grande Valley. Downloaded on August 28,2024 at 10:33:41 UTC from IEEE Xplore.  Restrictions apply. \n"
     ]
    }
   ],
   "source": [
    "x = pd.pages[1]\n",
    "print(x.extract_text())"
   ]
  },
  {
   "cell_type": "code",
   "execution_count": null,
   "metadata": {},
   "outputs": [],
   "source": []
  }
 ],
 "metadata": {
  "kernelspec": {
   "display_name": "gen-ai",
   "language": "python",
   "name": "python3"
  },
  "language_info": {
   "codemirror_mode": {
    "name": "ipython",
    "version": 3
   },
   "file_extension": ".py",
   "mimetype": "text/x-python",
   "name": "python",
   "nbconvert_exporter": "python",
   "pygments_lexer": "ipython3",
   "version": "3.11.4"
  }
 },
 "nbformat": 4,
 "nbformat_minor": 2
}

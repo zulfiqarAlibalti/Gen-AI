{
 "cells": [
  {
   "cell_type": "code",
   "execution_count": 5,
   "metadata": {},
   "outputs": [],
   "source": [
    "import requests as r\n",
    "import os\n",
    "from dotenv import load_dotenv"
   ]
  },
  {
   "cell_type": "code",
   "execution_count": 6,
   "metadata": {},
   "outputs": [],
   "source": [
    "# Load environment variables from .env file\n",
    "load_dotenv()\n",
    "WEATHER_API_KEY = os.getenv(\"WEATHER_API_KEY\")"
   ]
  },
  {
   "cell_type": "code",
   "execution_count": 14,
   "metadata": {},
   "outputs": [],
   "source": [
    "\n",
    "BASE_URL = \"https://api.openweathermap.org/data/2.5/weather?\"\n",
    "WEATHER_API_KEY = os.getenv(\"WEATHER_API_KEY\")\n",
    "CITY_NAME = str(input(\"Enter city name: \"))\n",
    "url = BASE_URL + \"appid=\" + WEATHER_API_KEY + \"&q=\" + CITY_NAME"
   ]
  },
  {
   "cell_type": "code",
   "execution_count": 16,
   "metadata": {},
   "outputs": [
    {
     "name": "stdout",
     "output_type": "stream",
     "text": [
      "{'coord': {'lon': 73.1338, 'lat': 33.7104}, 'weather': [{'id': 800, 'main': 'Clear', 'description': 'clear sky', 'icon': '01d'}], 'base': 'stations', 'main': {'temp': 304.17, 'feels_like': 307.31, 'temp_min': 304.17, 'temp_max': 304.17, 'pressure': 1004, 'humidity': 57, 'sea_level': 1004, 'grnd_level': 924}, 'visibility': 10000, 'wind': {'speed': 2.06, 'deg': 65, 'gust': 2.79}, 'clouds': {'all': 3}, 'dt': 1726296463, 'sys': {'type': 2, 'id': 2007435, 'country': 'PK', 'sunrise': 1726275015, 'sunset': 1726319761}, 'timezone': 18000, 'id': 1162015, 'name': 'Islamabad', 'cod': 200}\n"
     ]
    }
   ],
   "source": [
    "response = r.get(url)\n",
    "print(response.json())"
   ]
  },
  {
   "cell_type": "code",
   "execution_count": null,
   "metadata": {},
   "outputs": [],
   "source": []
  }
 ],
 "metadata": {
  "kernelspec": {
   "display_name": "gen-ai",
   "language": "python",
   "name": "python3"
  },
  "language_info": {
   "codemirror_mode": {
    "name": "ipython",
    "version": 3
   },
   "file_extension": ".py",
   "mimetype": "text/x-python",
   "name": "python",
   "nbconvert_exporter": "python",
   "pygments_lexer": "ipython3",
   "version": "3.11.4"
  }
 },
 "nbformat": 4,
 "nbformat_minor": 2
}

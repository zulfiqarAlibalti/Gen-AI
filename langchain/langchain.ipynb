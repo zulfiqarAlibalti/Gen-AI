{
 "cells": [
  {
   "cell_type": "code",
   "execution_count": 2,
   "id": "10ab9a5f-ff34-4a34-9387-07c007b1e6a1",
   "metadata": {},
   "outputs": [],
   "source": [
    "import os\n",
    "from dotenv import load_dotenv\n",
    "from langchain_community.llms import OpenAI"
   ]
  },
  {
   "cell_type": "code",
   "execution_count": 3,
   "id": "0563db17",
   "metadata": {},
   "outputs": [],
   "source": [
    "# Load environment variables from .env file\n",
    "load_dotenv()\n",
    "OPENAI_API_KEY = os.getenv(\"OPENAI_API_KEY\")\n"
   ]
  },
  {
   "cell_type": "code",
   "execution_count": 4,
   "id": "5eac8248",
   "metadata": {},
   "outputs": [
    {
     "name": "stderr",
     "output_type": "stream",
     "text": [
      "C:\\Users\\ali\\AppData\\Local\\Temp\\ipykernel_13500\\120147507.py:2: LangChainDeprecationWarning: The class `OpenAI` was deprecated in LangChain 0.0.10 and will be removed in 1.0. An updated version of the class exists in the langchain-openai package and should be used instead. To use it run `pip install -U langchain-openai` and import as `from langchain_openai import OpenAI`.\n",
      "  llm = OpenAI(openai_api_key=OPENAI_API_KEY)\n"
     ]
    }
   ],
   "source": [
    "# Initialize OpenAI with the API key\n",
    "llm = OpenAI(openai_api_key=OPENAI_API_KEY)\n"
   ]
  },
  {
   "cell_type": "code",
   "execution_count": 5,
   "id": "9b981132",
   "metadata": {},
   "outputs": [],
   "source": [
    "from langchain.prompts import PromptTemplate"
   ]
  },
  {
   "cell_type": "code",
   "execution_count": 6,
   "id": "06c1cf0b",
   "metadata": {},
   "outputs": [],
   "source": [
    "# Define the prompt template correctly with 'input_variables'\n",
    "prompt_template_name = PromptTemplate(\n",
    "    input_variables=[\"technology\"],  # 'input_variables' should be used instead of 'input_variable'\n",
    "    template=\"I want to make an AI-{technology} Company Startup. Please help me identify areas I should focus on to maximize seed fundings.\",\n",
    ")"
   ]
  },
  {
   "cell_type": "code",
   "execution_count": 7,
   "id": "ea0d6daa",
   "metadata": {},
   "outputs": [],
   "source": [
    "from langchain.chains import LLMChain"
   ]
  },
  {
   "cell_type": "code",
   "execution_count": 9,
   "id": "4c500dbc",
   "metadata": {},
   "outputs": [],
   "source": [
    "# Create the LLMChain\n",
    "tech_chain = LLMChain(llm=llm, prompt=prompt_template_name)\n",
    "# Define the prompt template correctly with 'input_variables'\n",
    "prompt_template_name = PromptTemplate(\n",
    "    input_variables=[\"company_name\"],  # 'input_variables' should be used instead of 'input_variable'\n",
    "    template=\"Suggest me some {company_name} for my Ai Sartup\",\n",
    ")\n",
    "\n",
    "name_chain = LLMChain(llm=llm, prompt=prompt_template_name)"
   ]
  },
  {
   "cell_type": "code",
   "execution_count": 10,
   "id": "423ae614",
   "metadata": {},
   "outputs": [],
   "source": [
    "from langchain.chains import SimpleSequentialChain"
   ]
  },
  {
   "cell_type": "code",
   "execution_count": 11,
   "id": "7611417d",
   "metadata": {},
   "outputs": [
    {
     "name": "stderr",
     "output_type": "stream",
     "text": [
      "C:\\Users\\ali\\AppData\\Local\\Temp\\ipykernel_13500\\3692346253.py:2: LangChainDeprecationWarning: The method `Chain.run` was deprecated in langchain 0.1.0 and will be removed in 1.0. Use invoke instead.\n",
      "  response = chain.run(\"Machine Learning\")\n"
     ]
    },
    {
     "name": "stdout",
     "output_type": "stream",
     "text": [
      ". To stand out, you need to showcase your unique selling points and competitive advantage. This could be a patented technology, a strong intellectual property portfolio, or a unique approach to solving a problem.\n",
      "\n",
      "6. Network with potential investors: Attend industry events, conferences, and networking events to meet potential investors. Make sure to have a concise and compelling elevator pitch ready to grab their attention. You can also leverage online platforms such as LinkedIn to connect with investors and showcase your company.\n",
      "\n",
      "7. Consider crowdfunding: Crowdfunding platforms can be a great way to raise funds for your AI startup. These platforms allow you to reach a large number of investors and individuals who may be interested in your product. Make sure to create a compelling campaign with a clear value proposition and attractive rewards for backers.\n",
      "\n",
      "8. Be prepared for due diligence: Before investing in a company, investors will conduct due diligence to assess the potential risks and returns. Make sure to have all necessary documents and information ready, such as financial statements, market research, and intellectual property documentation.\n",
      "\n",
      "9. Be open to feedback and adapt: Investors may provide valuable feedback and insights into your business plan and product. Be open to listening and adapting to their suggestions, as this will show your willingness to improve and increase the chances of securing funding.\n",
      "\n",
      "10.\n"
     ]
    }
   ],
   "source": [
    "chain = SimpleSequentialChain(chains = [tech_chain, name_chain])\n",
    "response = chain.run(\"Machine Learning\")\n",
    "print(response)"
   ]
  },
  {
   "cell_type": "code",
   "execution_count": 12,
   "id": "e601132c",
   "metadata": {},
   "outputs": [],
   "source": [
    "from langchain.agents import AgentType, initialize_agent, load_tools"
   ]
  },
  {
   "cell_type": "code",
   "execution_count": 22,
   "id": "44d51624",
   "metadata": {},
   "outputs": [
    {
     "name": "stdout",
     "output_type": "stream",
     "text": [
      "\n",
      "\n",
      "\u001b[1m> Entering new AgentExecutor chain...\u001b[0m\n",
      "\u001b[32;1m\u001b[1;3m I need to find the birthdate of Quaid e Azam.\n",
      "Action: wikipedia\n",
      "Action Input: Quaid e Azam\u001b[0m\n",
      "Observation: \u001b[36;1m\u001b[1;3mPage: Muhammad Ali Jinnah\n",
      "Summary: Muhammad Ali Jinnah (born Mahomedali Jinnahbhai; 25 December 1876 – 11 September 1948) was a barrister, politician, and the founder of Pakistan. Jinnah served as the leader of the All-India Muslim League from 1913 until the inception of Pakistan on 14 August 1947, and then as the Republic of Pakistan's first governor-general until his death.\n",
      "Born at Wazir Mansion in Karachi, Jinnah was trained as a barrister at Lincoln's Inn in London, England. Upon his return to India, he enrolled at the Bombay High Court, and took an interest in national politics, which eventually replaced his legal practice. Jinnah rose to prominence in the Indian National Congress in the first two decades of the 20th century. In these early years of his political career, Jinnah advocated Hindu–Muslim unity, helping to shape the 1916 Lucknow Pact between the Congress and the All-India Muslim League, in which Jinnah had also become prominent. Jinnah became a key leader in the All-India Home Rule League, and proposed a fourteen-point constitutional reform plan to safeguard the political rights of Muslims in the Indian subcontinent. In 1920, however, Jinnah resigned from the Congress when it agreed to follow a campaign of satyagraha, which he regarded as political anarchy.\n",
      "By 1940, Jinnah had come to believe that the Muslims of the subcontinent should have their own state to avoid the possible marginalised status they may might be reduced to in an independent Hindu–Muslim state. In that year, the Muslim League, led by Jinnah, passed the Lahore Resolution, demanding a separate nation for Indian Muslims. During the Second World War, the League gained strength while leaders of the Congress were imprisoned, and in the provincial elections held shortly after the war, it won most of the seats reserved for Muslims. Ultimately, the Congress and the Muslim League could not reach a power-sharing formula that would allow the entirety of British India to be united as a single state following independence, leading all parties to agree instead to the independence of a Hindu-majority India, and for a predominantly Muslim state of Pakistan.\n",
      "As the first governor-general of Pakistan, Jinnah worked to establish the new nation's government and policies, and to aid the millions of Muslim migrants who had emigrated from neighbouring India to Pakistan after the two states' independence, personally supervising the establishment of refugee camps. Jinnah died at age 71 in September 1948, just over a year after Pakistan gained independence from the United Kingdom. He left a deep and respected legacy in Pakistan. Several universities and public buildings in Pakistan bear Jinnah's name.  He is revered in Pakistan as the Quaid-e-Azam (\"Great Leader\") and Baba-e-Qaum (\"Father of the Nation\"). His birthday is also observed as a national holiday in the country. According to his biographer, Stanley Wolpert, Jinnah remains Pakistan's greatest leader.\n",
      "\n",
      "\n",
      "\n",
      "Page: Quaid-e-Azam Trophy\n",
      "Summary: The Quaid-e-Azam Trophy is a domestic first-class cricket competition in Pakistan. With few exceptions, it has been staged annually since it was first played during the 1953–54 season. Domestic cricket in Pakistan has undergone many reorganisations, with the number of teams and matches in the Quaid-e-Azam Trophy changing regularly. It has been variously contested by associations or departments, or a combination of the two. From 2019–20 to 2022–23 it was contested by six regional teams. For the 2023–24 season it was expanded to eight regional teams.\n",
      "\n",
      "Page: Quaid-e-Azam Zindabad\n",
      "Summary: Quaid-e-Azam Zindabad (Urdu: قائداعظم زندہ باد, lit. 'Long Live Quaid-e-Azam') is a 2022 Pakistani action comedy film written by Fizza Ali Meerza and Nabeel Qureshi, directed by Nabeel Qureshi, and produced by Mehdi Ali and Fizza Ali Meerza, under the banners of Filmwala Pictures. The film stars Fahad Mustafa, Javed Sheikh and Mahira Khan with Nayyar Ejaz and Mehmood Aslam in an ensemble cast.\n",
      "\u001b[0m\n",
      "Thought:\u001b[32;1m\u001b[1;3m I now know the final answer\n",
      "Final Answer: Quaid e Azam was born on 25 December 1876.\u001b[0m\n",
      "\n",
      "\u001b[1m> Finished chain.\u001b[0m\n"
     ]
    },
    {
     "data": {
      "text/plain": [
       "'Quaid e Azam was born on 25 December 1876.'"
      ]
     },
     "execution_count": 22,
     "metadata": {},
     "output_type": "execute_result"
    }
   ],
   "source": [
    "tools = load_tools([\"wikipedia\",\"llm-math\"], llm=llm)\n",
    "agent = initialize_agent(\n",
    "    tools,\n",
    "    llm,\n",
    "    agent=AgentType.ZERO_SHOT_REACT_DESCRIPTION,\n",
    "    verbose=True,\n",
    ")\n",
    "agent.run(\"When Quaid e Azam was born?\")"
   ]
  },
  {
   "cell_type": "code",
   "execution_count": 24,
   "id": "bc752f2f",
   "metadata": {},
   "outputs": [
    {
     "name": "stdout",
     "output_type": "stream",
     "text": [
      "\n",
      "\n",
      "1. Predictive Maintenance: Use machine learning algorithms to predict when a machine or equipment is likely to fail, allowing for proactive maintenance and reducing downtime.\n",
      "\n",
      "2. Customer Churn Analysis: Use machine learning to identify patterns and factors that lead to customer churn, and develop strategies to prevent it.\n",
      "\n",
      "3. Fraud Detection: Develop a machine learning model to detect and prevent fraudulent activities, such as credit card fraud or identity theft.\n",
      "\n",
      "4. Natural Language Processing (NLP): Use NLP to analyze customer feedback and reviews, and extract insights to improve product or service offerings.\n",
      "\n",
      "5. Image Recognition: Develop an image recognition model to automatically categorize and tag images, making them searchable and easily accessible.\n",
      "\n",
      "6. Personalized Recommendations: Use machine learning to analyze customer data and behavior, and make personalized product or content recommendations.\n",
      "\n",
      "7. Sentiment Analysis: Use machine learning to analyze customer sentiment and feedback on social media and other platforms, and use the insights to improve customer experience.\n",
      "\n",
      "8. Supply Chain Optimization: Use machine learning to optimize supply chain operations, reducing costs and improving efficiency.\n",
      "\n",
      "9. Chatbots: Develop chatbots using NLP and machine learning to provide personalized and efficient customer service.\n",
      "\n",
      "10. Predictive Analytics: Use historical data and machine learning algorithms to make predictions about future trends\n"
     ]
    }
   ],
   "source": [
    "from langchain.memory import ConversationBufferMemory\n",
    "\n",
    "memory = ConversationBufferMemory()\n",
    "chain = LLMChain(llm=llm, prompt=prompt_template_name, memory=memory)\n",
    "name  = chain.run(\"Machine Learning\")\n",
    "print(name)"
   ]
  },
  {
   "cell_type": "code",
   "execution_count": 26,
   "id": "a36087e7",
   "metadata": {},
   "outputs": [
    {
     "name": "stdout",
     "output_type": "stream",
     "text": [
      "Human: Machine Learning\n",
      "AI: \n",
      "\n",
      "1. Predictive Maintenance: Use machine learning algorithms to predict when a machine or equipment is likely to fail, allowing for proactive maintenance and reducing downtime.\n",
      "\n",
      "2. Customer Churn Analysis: Use machine learning to identify patterns and factors that lead to customer churn, and develop strategies to prevent it.\n",
      "\n",
      "3. Fraud Detection: Develop a machine learning model to detect and prevent fraudulent activities, such as credit card fraud or identity theft.\n",
      "\n",
      "4. Natural Language Processing (NLP): Use NLP to analyze customer feedback and reviews, and extract insights to improve product or service offerings.\n",
      "\n",
      "5. Image Recognition: Develop an image recognition model to automatically categorize and tag images, making them searchable and easily accessible.\n",
      "\n",
      "6. Personalized Recommendations: Use machine learning to analyze customer data and behavior, and make personalized product or content recommendations.\n",
      "\n",
      "7. Sentiment Analysis: Use machine learning to analyze customer sentiment and feedback on social media and other platforms, and use the insights to improve customer experience.\n",
      "\n",
      "8. Supply Chain Optimization: Use machine learning to optimize supply chain operations, reducing costs and improving efficiency.\n",
      "\n",
      "9. Chatbots: Develop chatbots using NLP and machine learning to provide personalized and efficient customer service.\n",
      "\n",
      "10. Predictive Analytics: Use historical data and machine learning algorithms to make predictions about future trends\n"
     ]
    }
   ],
   "source": [
    "print(chain.memory.buffer)"
   ]
  },
  {
   "cell_type": "code",
   "execution_count": 28,
   "id": "b19c71f8",
   "metadata": {},
   "outputs": [
    {
     "name": "stdout",
     "output_type": "stream",
     "text": [
      "The following is a friendly conversation between a human and an AI. The AI is talkative and provides lots of specific details from its context. If the AI does not know the answer to a question, it truthfully says it does not know.\n",
      "\n",
      "Current conversation:\n",
      "{history}\n",
      "Human: {input}\n",
      "AI:\n"
     ]
    },
    {
     "name": "stderr",
     "output_type": "stream",
     "text": [
      "C:\\Users\\ali\\AppData\\Local\\Temp\\ipykernel_13500\\3927974747.py:2: LangChainDeprecationWarning: The class `ConversationChain` was deprecated in LangChain 0.2.7 and will be removed in 1.0. Use RunnableWithMessageHistory: https://python.langchain.com/v0.2/api_reference/core/runnables/langchain_core.runnables.history.RunnableWithMessageHistory.html instead.\n",
      "  convo = ConversationChain(llm = OpenAI(temperature = 0.7))\n"
     ]
    }
   ],
   "source": [
    "from langchain.chains import ConversationChain\n",
    "convo = ConversationChain(llm = OpenAI(temperature = 0.7))\n",
    "print(convo.prompt.template)"
   ]
  },
  {
   "cell_type": "code",
   "execution_count": 29,
   "id": "d717a286",
   "metadata": {},
   "outputs": [
    {
     "data": {
      "text/plain": [
       "' 5x5 is equal to 25. It is a basic mathematical operation known as multiplication, which involves combining two numbers to find their total value. In this case, 5 is multiplied by itself, resulting in 25. This can also be represented as 5 squared. Is there anything else you would like to know about 5x5?'"
      ]
     },
     "execution_count": 29,
     "metadata": {},
     "output_type": "execute_result"
    }
   ],
   "source": [
    "convo.run(\"what is 5x5\")"
   ]
  },
  {
   "cell_type": "code",
   "execution_count": 30,
   "id": "1a468377",
   "metadata": {},
   "outputs": [
    {
     "data": {
      "text/plain": [
       "' 5x5 is equal to 25. This is because 5 multiplied by itself 5 times is equal to 25. This is known as the \"power\" of 5, or 5 squared. It is a basic mathematical operation and is often used in multiplication tables. Is there anything else you would like to know about 5x5?'"
      ]
     },
     "execution_count": 30,
     "metadata": {},
     "output_type": "execute_result"
    }
   ],
   "source": [
    "from langchain.memory import ConversationBufferMemory\n",
    "memory = ConversationBufferMemory(k=1)\n",
    "\n",
    "convo = ConversationChain(\n",
    "    llm=OpenAI(temperature=0.6),\n",
    "    memory=memory,\n",
    ")\n",
    "\n",
    "convo.run(\"what is 5x5\")\n"
   ]
  },
  {
   "cell_type": "code",
   "execution_count": null,
   "id": "43da3839",
   "metadata": {},
   "outputs": [],
   "source": []
  }
 ],
 "metadata": {
  "kernelspec": {
   "display_name": "gen-ai",
   "language": "python",
   "name": "python3"
  },
  "language_info": {
   "codemirror_mode": {
    "name": "ipython",
    "version": 3
   },
   "file_extension": ".py",
   "mimetype": "text/x-python",
   "name": "python",
   "nbconvert_exporter": "python",
   "pygments_lexer": "ipython3",
   "version": "3.11.4"
  }
 },
 "nbformat": 4,
 "nbformat_minor": 5
}
